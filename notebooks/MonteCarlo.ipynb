{
 "cells": [
  {
   "cell_type": "code",
   "execution_count": 1,
   "metadata": {},
   "outputs": [],
   "source": [
    "import sys\n",
    "sys.path.insert(0,'../')\n",
    "from myenvs import gridworld\n",
    "from solvers import mc\n",
    "import numpy as np\n",
    "\n",
    "env = gridworld.DetermGridWorld(size=[4,4],plotgrid=False)\n",
    "env.reset()\n",
    "MonteCarlo = mc.MC(env)\n"
   ]
  },
  {
   "cell_type": "code",
   "execution_count": 2,
   "metadata": {},
   "outputs": [
    {
     "name": "stdout",
     "output_type": "stream",
     "text": [
      "First Visit:\n",
      " defaultdict(<class 'float'>, {4: -17.192307692307693, 0: 0.0, 5: -23.28030303030303, 9: -32.276729559748425, 8: -32.824561403508774, 12: -36.63586956521739, 13: -31.14814814814815, 14: -17.74561403508772, 15: 0.0, 1: -17.458823529411763, 6: -28.594202898550726, 2: -28.302816901408452, 3: -35.33125, 11: -20.833333333333332, 10: -27.73015873015873, 7: -33.97315436241611})\n",
      "\n",
      "Every Visit:\n",
      " defaultdict(<class 'float'>, {4: -13.927884615384615, 0: 0.0, 5: -18.84469696969697, 9: -26.21383647798742, 8: -27.86842105263158, 12: -31.505434782608695, 13: -26.179012345679013, 14: -14.587719298245615, 15: 0.0, 1: -15.088235294117647, 6: -23.442028985507246, 2: -23.676056338028168, 3: -30.1875, 11: -17.453125, 10: -22.6984126984127, 7: -27.788590604026847})\n",
      "\n",
      "Every Visit:\n",
      " defaultdict(<class 'float'>, {4: -12.762931230184915, 0: 0.0, 5: -16.703020149869616, 9: -22.636896958200577, 8: -24.535112758230532, 12: -26.9617029377856, 13: -22.61808089926085, 14: -13.140103179287308, 15: 0.0, 1: -14.373747821661853, 6: -21.059671964384577, 2: -21.643082707911073, 3: -27.54261844998644, 11: -16.238081639811263, 10: -20.315138352200105, 7: -24.95779649188937})\n",
      "\n"
     ]
    }
   ],
   "source": [
    "def optimal_policy(state):\n",
    "    policy = [0, 3, 3, 0, 1, 1, 0, 0, 1, 0, 0, 0, 1, 2, 2, 0]\n",
    "    action = policy[state]\n",
    "    return action\n",
    "def random_policy(state):\n",
    "    action = np.random.choice(np.arange(0,env.nA), 1)[0]\n",
    "    return action\n",
    "\n",
    "mcpe = mc.policy_evaluation(env,random_policy)\n",
    "\n",
    "V_firstvisit = mcpe.first_visit()\n",
    "print('First Visit:\\n',V_firstvisit)\n",
    "print('')\n",
    "V_everyvisit = mcpe.every_visit()\n",
    "print('Every Visit:\\n',V_everyvisit)\n",
    "print('')\n",
    "\n",
    "V_incremental = mcpe.incremental()\n",
    "print('Every Visit:\\n',V_incremental)\n",
    "print('')\n"
   ]
  },
  {
   "cell_type": "code",
   "execution_count": 26,
   "metadata": {},
   "outputs": [
    {
     "name": "stdout",
     "output_type": "stream",
     "text": [
      "(0, 1) 0\n",
      "(0, 2) 1\n",
      "(0, 3) 2\n",
      "(0, 4) 4\n",
      "[(0, 1), (0, 2), (0, 3), (0, 4)]\n"
     ]
    }
   ],
   "source": [
    "from collections import defaultdict\n",
    "Qsa = defaultdict(float)\n",
    "Qsa[0,1] = 0\n",
    "Qsa[0,2] = 1\n",
    "Qsa[0,3] = 2\n",
    "Qsa[0,4] = 4\n",
    "for keys, values in Qsa.items():\n",
    "    print(keys,values)\n",
    "values = [val for val in Qsa] \n",
    "print(values)"
   ]
  },
  {
   "cell_type": "code",
   "execution_count": null,
   "metadata": {},
   "outputs": [],
   "source": []
  }
 ],
 "metadata": {
  "kernelspec": {
   "display_name": "Python 3",
   "language": "python",
   "name": "python3"
  },
  "language_info": {
   "codemirror_mode": {
    "name": "ipython",
    "version": 3
   },
   "file_extension": ".py",
   "mimetype": "text/x-python",
   "name": "python",
   "nbconvert_exporter": "python",
   "pygments_lexer": "ipython3",
   "version": "3.7.3"
  }
 },
 "nbformat": 4,
 "nbformat_minor": 2
}
